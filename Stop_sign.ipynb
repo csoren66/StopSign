{
 "cells": [
  {
   "attachments": {},
   "cell_type": "markdown",
   "id": "51d2f49d",
   "metadata": {},
   "source": [
    "## Get Data"
   ]
  },
  {
   "cell_type": "code",
   "execution_count": null,
   "id": "d949bc32",
   "metadata": {},
   "outputs": [],
   "source": [
    "%%bash \n",
    "mkdir ~/.kaggle\n",
    "cp kaggle.json ~/.kaggle/kaggle.json\n",
    "chmod 600 ~/.kaggle/kaggle.json\n",
    "pip install kaggle\n",
    "kaggle datasets download -d andrewmvd/road-sign-detection\n",
    "unzip road-sign-detection.zip -d data\n",
    "mv ./data/annotations ./data/labels"
   ]
  },
  {
   "attachments": {},
   "cell_type": "markdown",
   "id": "e1e9570e",
   "metadata": {},
   "source": [
    "## Steup YoloV5"
   ]
  },
  {
   "cell_type": "code",
   "execution_count": null,
   "id": "0d992105-b73b-4e1d-8553-ae0aa2febdaa",
   "metadata": {},
   "outputs": [],
   "source": [
    "%%bash\n",
    "git clone https://github.com/ultralytics/yolov5\n",
    "cd yolov5 \n",
    "pip install -r requirements.txt"
   ]
  },
  {
   "cell_type": "code",
   "execution_count": null,
   "id": "f604b607",
   "metadata": {},
   "outputs": [],
   "source": [
    "from preprocessing import convert_voc_to_yolo"
   ]
  },
  {
   "cell_type": "code",
   "execution_count": null,
   "id": "4fb4b976",
   "metadata": {},
   "outputs": [],
   "source": [
    "convert_voc_to_yolo()"
   ]
  },
  {
   "cell_type": "code",
   "execution_count": null,
   "id": "2d718b09",
   "metadata": {},
   "outputs": [],
   "source": [
    "%%bash\n",
    "#cp yolov5/data/VOC.yaml yolov5/VOC.yaml "
   ]
  },
  {
   "cell_type": "code",
   "execution_count": null,
   "id": "3b65663c",
   "metadata": {},
   "outputs": [],
   "source": [
    "# # Write out this YAML\n",
    "# path: ../data\n",
    "# train: # train images (relative to 'path')  16551 images\n",
    "#   - images\n",
    "# val: # val images (relative to 'path')  4952 images\n",
    "#   - images\n",
    "\n",
    "# # Classes\n",
    "# names:\n",
    "#   0: trafficlight\n",
    "#   1: speedlimit\n",
    "#   2: crosswalk\n",
    "#   3: stop"
   ]
  },
  {
   "attachments": {},
   "cell_type": "markdown",
   "id": "0b6bbad9",
   "metadata": {},
   "source": [
    "## Get Stuff Up and Running"
   ]
  },
  {
   "cell_type": "code",
   "execution_count": null,
   "id": "cda6de90",
   "metadata": {},
   "outputs": [],
   "source": [
    "import torch\n",
    "from matplotlib import pyplot as plt\n",
    "import numpy as np\n",
    "import cv2\n",
    "import itertools\n",
    "import os"
   ]
  },
  {
   "cell_type": "code",
   "execution_count": null,
   "id": "11b0cc8d",
   "metadata": {},
   "outputs": [],
   "source": [
    "%%bash\n",
    "cd yolov5 \n",
    "python train.py --img 320 --batch 16 --epochs 500 --data customVOC.yaml --weights yolov5s.pt --workers 2"
   ]
  },
  {
   "cell_type": "code",
   "execution_count": null,
   "id": "ad9edeb9",
   "metadata": {},
   "outputs": [],
   "source": [
    "model = torch.hub.load('ultralytics/yolov5', 'custom', path='yolov5/runs/train/exp5/weights/best.pt', force_reload=True)"
   ]
  },
  {
   "cell_type": "code",
   "execution_count": null,
   "id": "d87565c4",
   "metadata": {},
   "outputs": [],
   "source": [
    "fig, ax = plt.subplots(2,4, figsize=(20,10))\n",
    "imgs = os.listdir('./data/images')\n",
    "\n",
    "for idx in itertools.product(range(2),range(4)): \n",
    "    imgname = np.random.choice(imgs)\n",
    "    img = cv2.imread(f'./data/images/{imgname}')\n",
    "    results = model(img)\n",
    "    ax[idx[0],idx[1]].imshow(cv2.cvtColor(np.squeeze(results.render()), cv2.COLOR_BGR2RGB))"
   ]
  },
  {
   "cell_type": "code",
   "execution_count": null,
   "id": "21f0866f",
   "metadata": {},
   "outputs": [],
   "source": []
  }
 ],
 "metadata": {
  "kernelspec": {
   "display_name": "audioc",
   "language": "python",
   "name": "python3"
  },
  "language_info": {
   "codemirror_mode": {
    "name": "ipython",
    "version": 3
   },
   "file_extension": ".py",
   "mimetype": "text/x-python",
   "name": "python",
   "nbconvert_exporter": "python",
   "pygments_lexer": "ipython3",
   "version": "3.10.8 | packaged by conda-forge | (main, Nov 24 2022, 14:07:00) [MSC v.1916 64 bit (AMD64)]"
  },
  "vscode": {
   "interpreter": {
    "hash": "b851ecb4ccad081cab3a0050adce1e8efedbac3085b62e8078e82b872b97ba75"
   }
  }
 },
 "nbformat": 4,
 "nbformat_minor": 5
}
